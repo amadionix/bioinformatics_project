{
 "cells": [
  {
   "cell_type": "code",
   "execution_count": null,
   "metadata": {},
   "outputs": [],
   "source": [
    "import pandas as pd\n",
    "import numpy as np\n",
    "from sklearn.preprocessing import LabelEncoder\n",
    "from sklearn.feature_extraction import DictVectorizer\n",
    "\n",
    "# DIFFERENT CELL LYNES\n",
    "df_encoders = pd.read_csv('HelaS3_data.csv')\n",
    "df_classes = pd.read_csv('HelaS3_labels.csv') \n",
    "# df_encoders = pd.read_csv('HepG2.csv')\n",
    "# df_classes = pd.read_csv('HepG2_classes.csv') \n",
    "# df_encoders = pd.read_csv('K562_data.csv')\n",
    "# df_classes = pd.read_csv('K562_labels.csv') \n",
    "\n",
    "# CLASSES TO LABELS\n",
    "df_labels = np.asarray(df_classes)\n",
    "le = LabelEncoder()\n",
    "le.fit(df_labels)\n",
    "labels_1 = le.transform(df_labels)\n",
    "\n",
    "# ENCODERS TO FEATURES \n",
    "features_0 = df_encoders.to_numpy()\n",
    "features_1 = features_0[1:,1:]"
   ]
  },
  {
   "cell_type": "code",
   "execution_count": 267,
   "metadata": {},
   "outputs": [],
   "source": [
    "# ADJUSTING LABELS FOR PROBLEM 1\n",
    "# mask = (labels_1 == 0) | (labels_1 == 2) # A-P or A-E\n",
    "# features = features_1[mask]\n",
    "# labels_2 = labels_1[mask]\n",
    "# labels = (labels_2 == 2)\n",
    "\n",
    "# ADJUSTING LABELS FOR PROBLEM 2\n",
    "labels = (labels_1 == 0) | (labels_1 == 2) # A-P or A-E\n",
    "features = features_1\n"
   ]
  },
  {
   "cell_type": "code",
   "execution_count": 268,
   "metadata": {},
   "outputs": [],
   "source": [
    "# RESAMPLING \n",
    "from imblearn.over_sampling import SMOTE \n",
    "sm = SMOTE(random_state=42)\n",
    "features, labels = sm.fit_resample(features, labels)"
   ]
  },
  {
   "cell_type": "code",
   "execution_count": 269,
   "metadata": {},
   "outputs": [],
   "source": [
    "# SPLITTING DATA INTO TRAINING SET AND TEST SET\n",
    "from sklearn.model_selection import train_test_split\n",
    "features_train, features_test, labels_train, labels_test = train_test_split(features, labels, test_size=0.25, \n",
    "                                                                            random_state=42)"
   ]
  },
  {
   "cell_type": "code",
   "execution_count": null,
   "metadata": {},
   "outputs": [],
   "source": [
    "# MODEL TRAINING\n",
    "\n",
    "# MODEL USED FOR PROBLEM 1\n",
    "# from sklearn import tree\n",
    "# clf = tree.DecisionTreeClassifier()\n",
    "\n",
    "# MODEL USED FOR PROBLEM 2\n",
    "from sklearn.ensemble import RandomForestClassifier\n",
    "clf = RandomForestClassifier()\n",
    "\n",
    "\n",
    "# OTHER POPULAR MODELS WORTH EXPERIMENTING WITH\n",
    "\n",
    "# from sklearn.neural_network import MLPClassifier\n",
    "# clf = MLPClassifier(solver='lbfgs', alpha=1e-5, hidden_layer_sizes=(5, 2), random_state=1)\n",
    "\n",
    "# from sklearn.neighbors.nearest_centroid import NearestCentroid\n",
    "# clf = NearestCentroid()\n",
    "\n",
    "# from sklearn.linear_model import SGDClassifier\n",
    "# clf = SGDClassifier(loss=\"hinge\", penalty=\"l2\", max_iter=5)\n",
    "\n",
    "# from sklearn.svm import SVC\n",
    "# clf = SVC()\n",
    "\n",
    "clf.fit(features_train, labels_train)"
   ]
  },
  {
   "cell_type": "code",
   "execution_count": null,
   "metadata": {},
   "outputs": [],
   "source": [
    "from sklearn.ensemble import RandomForestClassifier\n",
    "clf = RandomForestClassifier(n_estimators=10)\n",
    "clf.fit(features_train, labels_train)"
   ]
  },
  {
   "cell_type": "code",
   "execution_count": 271,
   "metadata": {},
   "outputs": [
    {
     "name": "stdout",
     "output_type": "stream",
     "text": [
      "Test Accuracy: 0.9738643821280973\n"
     ]
    }
   ],
   "source": [
    "# TEST ACCURACY\n",
    "acc_test = clf.score(features_test, labels_test)\n",
    "print (\"Test Accuracy:\", acc_test)"
   ]
  },
  {
   "cell_type": "code",
   "execution_count": 272,
   "metadata": {},
   "outputs": [
    {
     "name": "stdout",
     "output_type": "stream",
     "text": [
      "Train Accuracy: 0.9991456579320783\n"
     ]
    }
   ],
   "source": [
    "# TRAIN ACCURACY\n",
    "acc_train = clf.score(features_train, labels_train)\n",
    "print (\"Train Accuracy:\", acc_train)"
   ]
  },
  {
   "cell_type": "code",
   "execution_count": 273,
   "metadata": {},
   "outputs": [
    {
     "name": "stdout",
     "output_type": "stream",
     "text": [
      "Precision: 0.9738818325890062\n",
      "Recall: 0.9738643821280973\n"
     ]
    }
   ],
   "source": [
    "# PRECISION AND RECALL\n",
    "from sklearn.metrics import recall_score, precision_score\n",
    "\n",
    "pred = clf.predict(features_test)\n",
    "precision = precision_score(labels_test, pred, average=\"weighted\")\n",
    "recall = recall_score(labels_test, pred, average=\"weighted\")\n",
    "\n",
    "print (\"Precision:\", precision) \n",
    "print (\"Recall:\", recall) "
   ]
  },
  {
   "cell_type": "code",
   "execution_count": 274,
   "metadata": {},
   "outputs": [
    {
     "name": "stdout",
     "output_type": "stream",
     "text": [
      "Average precision-recall score: 0.96\n"
     ]
    }
   ],
   "source": [
    "# AVERAGE PRECISION\n",
    "from sklearn.metrics import average_precision_score\n",
    "average_precision = average_precision_score(labels_test, pred)\n",
    "\n",
    "print('Average precision-recall score: {0:0.2f}'.format(\n",
    "      average_precision))"
   ]
  },
  {
   "cell_type": "code",
   "execution_count": 265,
   "metadata": {},
   "outputs": [
    {
     "data": {
      "image/png": "[encoded data removed]",
      "text/plain": [
       "<Figure size 432x288 with 1 Axes>"
      ]
     },
     "metadata": {
      "needs_background": "light"
     },
     "output_type": "display_data"
    }
   ],
   "source": [
    "from sklearn.metrics import precision_recall_curve\n",
    "import matplotlib.pyplot as plt\n",
    "from inspect import signature\n",
    "\n",
    "precision, recall, _ = precision_recall_curve(labels_test, pred)\n",
    "\n",
    "# In matplotlib < 1.5, plt.fill_between does not have a 'step' argument\n",
    "step_kwargs = ({'step': 'post'}\n",
    "               if 'step' in signature(plt.fill_between).parameters\n",
    "               else {})\n",
    "plt.step(recall, precision, color='b', alpha=0.2,\n",
    "         where='post')\n",
    "plt.fill_between(recall, precision, alpha=0.2, color='b', **step_kwargs)\n",
    "\n",
    "plt.xlabel('Recall')\n",
    "plt.ylabel('Precision')\n",
    "plt.ylim([0.0, 1.05])\n",
    "plt.xlim([0.0, 1.0])\n",
    "plt.title('2-class Precision-Recall curve: AP={0:0.2f}'.format(\n",
    "          average_precision))\n",
    "plt.savefig('PRC_pr1.png')"
   ]
  },
  {
   "cell_type": "code",
   "execution_count": 266,
   "metadata": {},
   "outputs": [
    {
     "data": {
      "image/png": "[encoded data removed]",
      "text/plain": [
       "<Figure size 432x288 with 1 Axes>"
      ]
     },
     "metadata": {
      "needs_background": "light"
     },
     "output_type": "display_data"
    }
   ],
   "source": [
    "# ROC CURVE\n",
    "from sklearn import metrics\n",
    "import matplotlib.pyplot as plt\n",
    "\n",
    "fpr, tpr, _ = metrics.roc_curve(labels_test, pred)\n",
    "auc = metrics.roc_auc_score(labels_test, pred)\n",
    "plt.plot(fpr, tpr, label=\"data 1, auc=\"+str(auc))\n",
    "plt.legend(loc = 10)\n",
    "plt.savefig('ROC_pr1.png')\n",
    "plt.show()\n"
   ]
  },
  {
   "cell_type": "code",
   "execution_count": null,
   "metadata": {},
   "outputs": [],
   "source": [
    "# OPTIONAL CROSS VALIDATION TEST (might take a couple of minutes to run)\n",
    "from sklearn.model_selection import cross_val_score\n",
    "scores = cross_val_score(clf, features_train, labels_train, cv=8)\n",
    "scores"
   ]
  }
 ],
 "metadata": {
  "kernelspec": {
   "display_name": "Python 3",
   "language": "python",
   "name": "python3"
  },
  "language_info": {
   "codemirror_mode": {
    "name": "ipython",
    "version": 3
   },
   "file_extension": ".py",
   "mimetype": "text/x-python",
   "name": "python",
   "nbconvert_exporter": "python",
   "pygments_lexer": "ipython3",
   "version": "3.6.8"
  }
 },
 "nbformat": 4,
 "nbformat_minor": 2
}
